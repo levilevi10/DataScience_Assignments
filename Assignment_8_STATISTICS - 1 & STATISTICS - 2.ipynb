{
 "cells": [
  {
   "cell_type": "markdown",
   "metadata": {},
   "source": [
    "\n",
    "\n",
    "\n",
    "\n",
    "\n",
    "\n"
   ]
  },
  {
   "cell_type": "markdown",
   "metadata": {},
   "source": [
    "Task 1:\n",
    "1. You survey households in your area to find the average rent they are paying. Find the\n",
    "standard deviation from the following data:\n",
    "$1550, $1700, $900, $850, $1000, $950."
   ]
  },
  {
   "cell_type": "code",
   "execution_count": 15,
   "metadata": {},
   "outputs": [
    {
     "name": "stdout",
     "output_type": "stream",
     "text": [
      "1158.3333333333333\n"
     ]
    }
   ],
   "source": [
    "b = [1550, 1700, 900, 850, 1000, 950]\n",
    "def average(liste):\n",
    "    summe = 0\n",
    "    for number in liste:\n",
    "        summe += number\n",
    "    return summe/len(liste)\n",
    "\n",
    "\n",
    "print(average(b))"
   ]
  },
  {
   "cell_type": "markdown",
   "metadata": {},
   "source": [
    "2. Find the variance for the following set of data representing trees in California (heights in feet): 3, 21, 98, 203, 17, 9"
   ]
  },
  {
   "cell_type": "code",
   "execution_count": 19,
   "metadata": {},
   "outputs": [
    {
     "name": "stdout",
     "output_type": "stream",
     "text": [
      "58.5\n",
      "31099.5\n",
      "5183.25\n"
     ]
    }
   ],
   "source": [
    "val = [3, 21, 98, 203, 17, 9]\n",
    "newsum = 0\n",
    "avg = average(val)\n",
    "print(avg)\n",
    "for num in val:\n",
    "    newsum += (num - avg)**2\n",
    "print(newsum)\n",
    "variance = newsum/(len(val))\n",
    "print(variance)\n",
    "    "
   ]
  },
  {
   "cell_type": "markdown",
   "metadata": {},
   "source": [
    "In a class on 100 students, 80 students passed in all subjects, 10 failed in one subject, 7 failed in two subjects and 3 failed in three subjects. Find the probability distribution of the variable for number of subjects a student from the given class has failed in."
   ]
  },
  {
   "cell_type": "code",
   "execution_count": 40,
   "metadata": {},
   "outputs": [
    {
     "name": "stdout",
     "output_type": "stream",
     "text": [
      "[{'passed': 0.8}, {'failed': 0.1}, {'failed2': 0.07}, {'failed3': 0.03}]\n"
     ]
    }
   ],
   "source": [
    "passed = 80\n",
    "failed = 10\n",
    "failed2 = 7\n",
    "failed3 = 3\n",
    "n = passed + failed + failed2 + failed3 \n",
    "outcomesnum = [passed,failed,failed2,failed3]\n",
    "outcomesname = ['passed', 'failed','failed2','failed3']\n",
    "distribution = []\n",
    "for outcome in outcomesnum:\n",
    "    distribution.append({outcomesname[outcomesnum.index(outcome)]:(outcome/n)})\n",
    "print(distribution)"
   ]
  },
  {
   "cell_type": "markdown",
   "metadata": {},
   "source": [
    "Task 2:\n",
    "\n",
    "1. A test is conducted which is consisting of 20 MCQs (multiple choices questions) with every\n",
    "MCQ having its four options out of which only one is correct. Determine the probability that a\n",
    "person undertaking that test has answered exactly 5 questions wrong."
   ]
  },
  {
   "cell_type": "code",
   "execution_count": 54,
   "metadata": {},
   "outputs": [
    {
     "data": {
      "text/plain": [
       "0.2023311518569244"
      ]
     },
     "execution_count": 54,
     "metadata": {},
     "output_type": "execute_result"
    }
   ],
   "source": [
    "import math\n",
    "def binom(n,k, p):\n",
    "    return fak(n)/(fak(k)*fak(n-k))*p**k*(1-p)**(n-k)\n",
    "def fak(x):\n",
    "    return math.factorial(x) \n",
    "\n",
    "binom(20,5,0.25)"
   ]
  },
  {
   "cell_type": "markdown",
   "metadata": {},
   "source": [
    "2. A die marked A to E is rolled 50 times. Find the probability of getting a “D” exactly 5 times."
   ]
  },
  {
   "cell_type": "code",
   "execution_count": 55,
   "metadata": {},
   "outputs": [
    {
     "data": {
      "text/plain": [
       "0.0745022589928641"
      ]
     },
     "execution_count": 55,
     "metadata": {},
     "output_type": "execute_result"
    }
   ],
   "source": [
    "binom(50,5,(1/6))"
   ]
  },
  {
   "cell_type": "markdown",
   "metadata": {},
   "source": [
    "3. Two balls are drawn at random in succession without replacement from an urn containing 4\n",
    "red balls and 6 black balls.\n",
    "\n",
    "Find the probabilities of all the possible outcomes."
   ]
  },
  {
   "cell_type": "code",
   "execution_count": 2,
   "metadata": {},
   "outputs": [
    {
     "name": "stdout",
     "output_type": "stream",
     "text": [
      "0.13333333333333336 0.2666666666666667 0.26666666666666666 0.3333333333333333\n"
     ]
    }
   ],
   "source": [
    "#possible outcome: RR, RB, BR, BB\n",
    "RR = 4/10*3/9\n",
    "RB = 4/10*6/9\n",
    "BR = 6/10*4/9\n",
    "BB = 6/10*5/9\n",
    "\n",
    "print(RR,RB,BR,BB)"
   ]
  },
  {
   "cell_type": "code",
   "execution_count": null,
   "metadata": {},
   "outputs": [],
   "source": []
  }
 ],
 "metadata": {
  "kernelspec": {
   "display_name": "Python 3",
   "language": "python",
   "name": "python3"
  },
  "language_info": {
   "codemirror_mode": {
    "name": "ipython",
    "version": 3
   },
   "file_extension": ".py",
   "mimetype": "text/x-python",
   "name": "python",
   "nbconvert_exporter": "python",
   "pygments_lexer": "ipython3",
   "version": "3.6.4"
  }
 },
 "nbformat": 4,
 "nbformat_minor": 2
}
